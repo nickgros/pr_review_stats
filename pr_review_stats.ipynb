{
 "cells": [
  {
   "cell_type": "markdown",
   "id": "10668bc3",
   "metadata": {},
   "source": [
    "# Analyzing Pull Request Review Statistics\n",
    "\n",
    "This notebook analyzes the last 100 pull requests you have reviewed, computes summary statistics, and visualizes the distribution of their line counts."
   ]
  },
  {
   "cell_type": "markdown",
   "id": "78042b6a",
   "metadata": {},
   "source": [
    "## 1. Import Required Libraries\n",
    "\n",
    "We will use `requests` for API calls, `pandas` for data manipulation, and `matplotlib`/`seaborn` for visualization."
   ]
  },
  {
   "cell_type": "code",
   "execution_count": 6,
   "id": "15933f3e",
   "metadata": {},
   "outputs": [],
   "source": [
    "# Import required libraries\n",
    "import requests\n",
    "import pandas as pd\n",
    "import matplotlib.pyplot as plt\n",
    "import seaborn as sns\n",
    "import os\n",
    "from dotenv import load_dotenv"
   ]
  },
  {
   "cell_type": "markdown",
   "id": "e6ba519f",
   "metadata": {},
   "source": [
    "## 2. Authenticate and Connect to GitHub API\n",
    "\n",
    "Set up authentication using a GitHub personal access token. You can store your token in an environment variable for security."
   ]
  },
  {
   "cell_type": "code",
   "execution_count": null,
   "id": "7fa2e6ba",
   "metadata": {},
   "outputs": [],
   "source": [
    "load_dotenv()\n",
    "\n",
    "# Set up GitHub authentication\n",
    "# Store your GitHub token in an environment variable named GITHUB_TOKEN\n",
    "GITHUB_TOKEN = os.getenv('GITHUB_TOKEN')\n",
    "if not GITHUB_TOKEN:\n",
    "    raise ValueError('Please set your GitHub personal access token in the GITHUB_TOKEN environment variable.')\n",
    "\n",
    "headers = {\n",
    "    'Authorization': f'token {GITHUB_TOKEN}',\n",
    "    'Accept': 'application/vnd.github+json'\n",
    "}\n",
    "\n",
    "# Set your GitHub username here\n",
    "GITHUB_USERNAME = os.getenv('GITHUB_USERNAME')  # <-- Load the GITHUB_USERNAME environment variable, or replace with your GitHub username"
   ]
  },
  {
   "cell_type": "markdown",
   "id": "7f4ebeb5",
   "metadata": {},
   "source": [
    "## 3. Fetch Last 100 Reviewed Pull Requests\n",
    "\n",
    "We will use the GitHub API to find the last 100 pull requests you have reviewed. This requires searching for PR review events by your username."
   ]
  },
  {
   "cell_type": "code",
   "execution_count": 8,
   "id": "cc7265b9",
   "metadata": {},
   "outputs": [
    {
     "name": "stdout",
     "output_type": "stream",
     "text": [
      "Fetched 100 reviewed PRs.\n"
     ]
    }
   ],
   "source": [
    "# Fetch the last 100 pull requests you have reviewed\n",
    "# This uses the GitHub Search API to find PRs where you have submitted a review\n",
    "\n",
    "def fetch_reviewed_prs(username, headers, max_prs=100):\n",
    "    prs = []\n",
    "    page = 1\n",
    "    per_page = 30  # GitHub API max per_page is 100, but search API may limit results\n",
    "    while len(prs) < max_prs:\n",
    "        search_url = f\"https://api.github.com/search/issues?q=type:pr+reviewed-by:{username}&sort=updated&order=desc&per_page={per_page}&page={page}\"\n",
    "        resp = requests.get(search_url, headers=headers)\n",
    "        if resp.status_code != 200:\n",
    "            print(f\"Error fetching PRs: {resp.status_code}\")\n",
    "            break\n",
    "        items = resp.json().get('items', [])\n",
    "        if not items:\n",
    "            break\n",
    "        prs.extend(items)\n",
    "        if len(items) < per_page:\n",
    "            break\n",
    "        page += 1\n",
    "    return prs[:max_prs]\n",
    "\n",
    "reviewed_prs = fetch_reviewed_prs(GITHUB_USERNAME, headers, max_prs=100)\n",
    "print(f\"Fetched {len(reviewed_prs)} reviewed PRs.\")"
   ]
  },
  {
   "cell_type": "markdown",
   "id": "52df7a78",
   "metadata": {},
   "source": [
    "## 4. Extract Line Count Data from Pull Requests\n",
    "\n",
    "For each pull request, extract the number of lines added, deleted, and the total line count using the PR API."
   ]
  },
  {
   "cell_type": "code",
   "execution_count": 15,
   "id": "30b93e09",
   "metadata": {},
   "outputs": [
    {
     "name": "stderr",
     "output_type": "stream",
     "text": [
      "/tmp/ipykernel_201998/3601448570.py:2: TqdmWarning: IProgress not found. Please update jupyter and ipywidgets. See https://ipywidgets.readthedocs.io/en/stable/user_install.html\n",
      "  from tqdm.autonotebook import tqdm\n",
      "Fetching PR details: 100%|██████████| 100/100 [00:55<00:00,  1.79it/s]\n",
      "\n"
     ]
    },
    {
     "data": {
      "text/html": [
       "<div>\n",
       "<style scoped>\n",
       "    .dataframe tbody tr th:only-of-type {\n",
       "        vertical-align: middle;\n",
       "    }\n",
       "\n",
       "    .dataframe tbody tr th {\n",
       "        vertical-align: top;\n",
       "    }\n",
       "\n",
       "    .dataframe thead th {\n",
       "        text-align: right;\n",
       "    }\n",
       "</style>\n",
       "<table border=\"1\" class=\"dataframe\">\n",
       "  <thead>\n",
       "    <tr style=\"text-align: right;\">\n",
       "      <th></th>\n",
       "      <th>repo</th>\n",
       "      <th>number</th>\n",
       "      <th>title</th>\n",
       "      <th>additions</th>\n",
       "      <th>deletions</th>\n",
       "      <th>changed_files</th>\n",
       "      <th>total_changes</th>\n",
       "    </tr>\n",
       "  </thead>\n",
       "  <tbody>\n",
       "    <tr>\n",
       "      <th>0</th>\n",
       "      <td>Sage-Bionetworks/synapse-web-monorepo</td>\n",
       "      <td>2285</td>\n",
       "      <td>SWC-7496: Backfill tests for enum/autocomplete...</td>\n",
       "      <td>219</td>\n",
       "      <td>1</td>\n",
       "      <td>3</td>\n",
       "      <td>220</td>\n",
       "    </tr>\n",
       "    <tr>\n",
       "      <th>1</th>\n",
       "      <td>Sage-Bionetworks/synapse-web-monorepo</td>\n",
       "      <td>2286</td>\n",
       "      <td>Create configurations and symlinks to env file...</td>\n",
       "      <td>16</td>\n",
       "      <td>2</td>\n",
       "      <td>6</td>\n",
       "      <td>18</td>\n",
       "    </tr>\n",
       "    <tr>\n",
       "      <th>2</th>\n",
       "      <td>Sage-Bionetworks/synapse-web-monorepo</td>\n",
       "      <td>2280</td>\n",
       "      <td>SWC-7509 - send client clock on grid reconnect</td>\n",
       "      <td>590</td>\n",
       "      <td>60</td>\n",
       "      <td>6</td>\n",
       "      <td>650</td>\n",
       "    </tr>\n",
       "    <tr>\n",
       "      <th>3</th>\n",
       "      <td>Sage-Bionetworks/synapse-web-monorepo</td>\n",
       "      <td>2243</td>\n",
       "      <td>PORTALS-3821</td>\n",
       "      <td>242</td>\n",
       "      <td>33</td>\n",
       "      <td>3</td>\n",
       "      <td>275</td>\n",
       "    </tr>\n",
       "    <tr>\n",
       "      <th>4</th>\n",
       "      <td>Sage-Bionetworks/synapse-web-monorepo</td>\n",
       "      <td>2282</td>\n",
       "      <td>PORTALS-3875: initialize arcus bio portal</td>\n",
       "      <td>582</td>\n",
       "      <td>18</td>\n",
       "      <td>33</td>\n",
       "      <td>600</td>\n",
       "    </tr>\n",
       "  </tbody>\n",
       "</table>\n",
       "</div>"
      ],
      "text/plain": [
       "                                    repo  number  \\\n",
       "0  Sage-Bionetworks/synapse-web-monorepo    2285   \n",
       "1  Sage-Bionetworks/synapse-web-monorepo    2286   \n",
       "2  Sage-Bionetworks/synapse-web-monorepo    2280   \n",
       "3  Sage-Bionetworks/synapse-web-monorepo    2243   \n",
       "4  Sage-Bionetworks/synapse-web-monorepo    2282   \n",
       "\n",
       "                                               title  additions  deletions  \\\n",
       "0  SWC-7496: Backfill tests for enum/autocomplete...        219          1   \n",
       "1  Create configurations and symlinks to env file...         16          2   \n",
       "2     SWC-7509 - send client clock on grid reconnect        590         60   \n",
       "3                                       PORTALS-3821        242         33   \n",
       "4          PORTALS-3875: initialize arcus bio portal        582         18   \n",
       "\n",
       "   changed_files  total_changes  \n",
       "0              3            220  \n",
       "1              6             18  \n",
       "2              6            650  \n",
       "3              3            275  \n",
       "4             33            600  "
      ]
     },
     "execution_count": 15,
     "metadata": {},
     "output_type": "execute_result"
    }
   ],
   "source": [
    "# Extract line count data for each PR\n",
    "from tqdm.autonotebook import tqdm\n",
    "\n",
    "def extract_pr_line_counts(prs, headers):\n",
    "    pr_data = []\n",
    "    for pr in tqdm(prs, desc=\"Fetching PR details\"):\n",
    "        repo_full_name = pr['repository_url'].split('repos/')[-1]\n",
    "        pr_number = pr['number']\n",
    "        pr_url = f\"https://api.github.com/repos/{repo_full_name}/pulls/{pr_number}\"\n",
    "        resp = requests.get(pr_url, headers=headers)\n",
    "        if resp.status_code != 200:\n",
    "            continue\n",
    "        pr_info = resp.json()\n",
    "        pr_data.append({\n",
    "            'repo': repo_full_name,\n",
    "            'number': pr_number,\n",
    "            'title': pr['title'],\n",
    "            'additions': pr_info.get('additions', 0),\n",
    "            'deletions': pr_info.get('deletions', 0),\n",
    "            'changed_files': pr_info.get('changed_files', 0),\n",
    "            'total_changes': pr_info.get('additions', 0) + pr_info.get('deletions', 0)\n",
    "        })\n",
    "    return pd.DataFrame(pr_data)\n",
    "\n",
    "pr_df = extract_pr_line_counts(reviewed_prs, headers)\n",
    "pr_df.head()"
   ]
  },
  {
   "cell_type": "markdown",
   "id": "cee5dc9d",
   "metadata": {},
   "source": [
    "## 4.5. Filter to remove outliers\n",
    "\n",
    "Very large PRs have a lot of generated changes, so they poorly represent a real code review."
   ]
  },
  {
   "cell_type": "code",
   "execution_count": 33,
   "id": "4a5282fc",
   "metadata": {},
   "outputs": [],
   "source": [
    "pr_df_filtered = pr_df[pr_df['total_changes'] <= 15000]  # Filter out PRs with more than 15000 total changes"
   ]
  },
  {
   "cell_type": "markdown",
   "id": "56dfdd58",
   "metadata": {},
   "source": [
    "## 5. Compute Summary Statistics\n",
    "\n",
    "Calculate mean, median, standard deviation, min, and max for PR line counts."
   ]
  },
  {
   "cell_type": "code",
   "execution_count": 34,
   "id": "bedc54ee",
   "metadata": {},
   "outputs": [
    {
     "name": "stdout",
     "output_type": "stream",
     "text": [
      "Summary statistics for total line changes:\n",
      "count      94.000000\n",
      "mean      557.351064\n",
      "std       906.856104\n",
      "min         2.000000\n",
      "25%        40.750000\n",
      "50%       219.000000\n",
      "75%       510.500000\n",
      "max      4290.000000\n",
      "Name: total_changes, dtype: float64\n",
      "Mean: 557.35\n",
      "Median: 219.0\n"
     ]
    }
   ],
   "source": [
    "# Compute summary statistics for PR line counts\n",
    "summary_stats = pr_df_filtered['total_changes'].describe()\n",
    "mean = pr_df_filtered['total_changes'].mean()\n",
    "median = pr_df_filtered['total_changes'].median()\n",
    "print('Summary statistics for total line changes:')\n",
    "print(summary_stats)\n",
    "print(f\"Mean: {mean:.2f}\")\n",
    "print(f\"Median: {median}\")"
   ]
  },
  {
   "cell_type": "markdown",
   "id": "293affd6",
   "metadata": {},
   "source": [
    "## 6. Visualize Pull Request Line Counts\n",
    "\n",
    "We will create a histogram and a boxplot to visualize the distribution, mean, and median of PR line counts."
   ]
  },
  {
   "cell_type": "code",
   "execution_count": 36,
   "id": "1b604792",
   "metadata": {},
   "outputs": [
    {
     "data": {
      "image/png": "[encoded data removed]",
      "text/plain": [
       "<Figure size 1200x500 with 1 Axes>"
      ]
     },
     "metadata": {},
     "output_type": "display_data"
    },
    {
     "data": {
      "image/png": "[encoded data removed]",
      "text/plain": [
       "<Figure size 800x400 with 1 Axes>"
      ]
     },
     "metadata": {},
     "output_type": "display_data"
    }
   ],
   "source": [
    "# Visualize the distribution of PR line counts\n",
    "plt.figure(figsize=(12, 5))\n",
    "sns.histplot(pr_df_filtered['total_changes'], bins=30, kde=True)\n",
    "plt.axvline(mean, color='r', linestyle='--', label=f'Mean: {mean:.2f}')\n",
    "plt.axvline(median, color='g', linestyle='-', label=f'Median: {median}')\n",
    "plt.title('Distribution of Pull Request Line Counts')\n",
    "plt.xlabel('Total Line Changes (Additions + Deletions)')\n",
    "plt.ylabel('Number of PRs')\n",
    "plt.legend()\n",
    "plt.show()\n",
    "\n",
    "plt.figure(figsize=(8, 4))\n",
    "sns.boxplot(x=pr_df_filtered['total_changes'])\n",
    "plt.title('Boxplot of Pull Request Line Counts')\n",
    "plt.xlabel('Total Line Changes (Additions + Deletions)')\n",
    "plt.show()"
   ]
  }
 ],
 "metadata": {
  "kernelspec": {
   "display_name": "Python 3",
   "language": "python",
   "name": "python3"
  },
  "language_info": {
   "codemirror_mode": {
    "name": "ipython",
    "version": 3
   },
   "file_extension": ".py",
   "mimetype": "text/x-python",
   "name": "python",
   "nbconvert_exporter": "python",
   "pygments_lexer": "ipython3",
   "version": "3.13.5"
  }
 },
 "nbformat": 4,
 "nbformat_minor": 5
}
